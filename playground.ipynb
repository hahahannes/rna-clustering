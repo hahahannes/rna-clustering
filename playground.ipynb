{
 "cells": [
  {
   "cell_type": "code",
   "execution_count": 5,
   "metadata": {},
   "outputs": [],
   "source": [
    "from fasta import *"
   ]
  },
  {
   "cell_type": "code",
   "execution_count": 11,
   "metadata": {},
   "outputs": [],
   "source": [
    "import umap"
   ]
  },
  {
   "cell_type": "code",
   "execution_count": 17,
   "metadata": {},
   "outputs": [],
   "source": [
    "import matplotlib.pyplot as plt"
   ]
  },
  {
   "cell_type": "code",
   "execution_count": 6,
   "metadata": {},
   "outputs": [],
   "source": [
    "df = load_data()"
   ]
  },
  {
   "cell_type": "code",
   "execution_count": 7,
   "metadata": {},
   "outputs": [
    {
     "data": {
      "text/html": [
       "<div>\n",
       "<style scoped>\n",
       "    .dataframe tbody tr th:only-of-type {\n",
       "        vertical-align: middle;\n",
       "    }\n",
       "\n",
       "    .dataframe tbody tr th {\n",
       "        vertical-align: top;\n",
       "    }\n",
       "\n",
       "    .dataframe thead th {\n",
       "        text-align: right;\n",
       "    }\n",
       "</style>\n",
       "<table border=\"1\" class=\"dataframe\">\n",
       "  <thead>\n",
       "    <tr style=\"text-align: right;\">\n",
       "      <th></th>\n",
       "      <th>length</th>\n",
       "      <th>ratio_g</th>\n",
       "      <th>ratio_t</th>\n",
       "      <th>ratio_c</th>\n",
       "      <th>ratio_a</th>\n",
       "      <th>number_exons</th>\n",
       "      <th>chromosom</th>\n",
       "      <th>start_pos</th>\n",
       "      <th>end_pos</th>\n",
       "      <th>length_from_pos</th>\n",
       "    </tr>\n",
       "  </thead>\n",
       "  <tbody>\n",
       "    <tr>\n",
       "      <th>0</th>\n",
       "      <td>1991</td>\n",
       "      <td>20.592667</td>\n",
       "      <td>30.688096</td>\n",
       "      <td>22.752386</td>\n",
       "      <td>25.966851</td>\n",
       "      <td>3</td>\n",
       "      <td>chr1</td>\n",
       "      <td>84267198</td>\n",
       "      <td>84326229</td>\n",
       "      <td>59031</td>\n",
       "    </tr>\n",
       "    <tr>\n",
       "      <th>1</th>\n",
       "      <td>966</td>\n",
       "      <td>22.256729</td>\n",
       "      <td>26.086957</td>\n",
       "      <td>24.534161</td>\n",
       "      <td>27.122153</td>\n",
       "      <td>4</td>\n",
       "      <td>chr16</td>\n",
       "      <td>74226290</td>\n",
       "      <td>74249420</td>\n",
       "      <td>23130</td>\n",
       "    </tr>\n",
       "    <tr>\n",
       "      <th>2</th>\n",
       "      <td>1646</td>\n",
       "      <td>22.053463</td>\n",
       "      <td>23.815310</td>\n",
       "      <td>23.815310</td>\n",
       "      <td>30.315917</td>\n",
       "      <td>12</td>\n",
       "      <td>chrX</td>\n",
       "      <td>129611042</td>\n",
       "      <td>129658231</td>\n",
       "      <td>47189</td>\n",
       "    </tr>\n",
       "    <tr>\n",
       "      <th>3</th>\n",
       "      <td>368</td>\n",
       "      <td>30.978261</td>\n",
       "      <td>16.847826</td>\n",
       "      <td>27.717391</td>\n",
       "      <td>24.456522</td>\n",
       "      <td>2</td>\n",
       "      <td>chr17</td>\n",
       "      <td>48634534</td>\n",
       "      <td>48636771</td>\n",
       "      <td>2237</td>\n",
       "    </tr>\n",
       "    <tr>\n",
       "      <th>4</th>\n",
       "      <td>3522</td>\n",
       "      <td>32.822260</td>\n",
       "      <td>15.247019</td>\n",
       "      <td>31.317433</td>\n",
       "      <td>20.613288</td>\n",
       "      <td>6</td>\n",
       "      <td>chr1</td>\n",
       "      <td>2481358</td>\n",
       "      <td>2488450</td>\n",
       "      <td>7092</td>\n",
       "    </tr>\n",
       "    <tr>\n",
       "      <th>...</th>\n",
       "      <td>...</td>\n",
       "      <td>...</td>\n",
       "      <td>...</td>\n",
       "      <td>...</td>\n",
       "      <td>...</td>\n",
       "      <td>...</td>\n",
       "      <td>...</td>\n",
       "      <td>...</td>\n",
       "      <td>...</td>\n",
       "      <td>...</td>\n",
       "    </tr>\n",
       "    <tr>\n",
       "      <th>9996</th>\n",
       "      <td>400</td>\n",
       "      <td>18.000000</td>\n",
       "      <td>28.000000</td>\n",
       "      <td>22.500000</td>\n",
       "      <td>31.500000</td>\n",
       "      <td>2</td>\n",
       "      <td>chr20</td>\n",
       "      <td>18040136</td>\n",
       "      <td>18051652</td>\n",
       "      <td>11516</td>\n",
       "    </tr>\n",
       "    <tr>\n",
       "      <th>9997</th>\n",
       "      <td>3452</td>\n",
       "      <td>21.176130</td>\n",
       "      <td>25.811124</td>\n",
       "      <td>21.176130</td>\n",
       "      <td>31.836616</td>\n",
       "      <td>3</td>\n",
       "      <td>chr3</td>\n",
       "      <td>106959574</td>\n",
       "      <td>107004434</td>\n",
       "      <td>44860</td>\n",
       "    </tr>\n",
       "    <tr>\n",
       "      <th>9998</th>\n",
       "      <td>482</td>\n",
       "      <td>24.896266</td>\n",
       "      <td>27.800830</td>\n",
       "      <td>24.896266</td>\n",
       "      <td>22.406639</td>\n",
       "      <td>3</td>\n",
       "      <td>chr2</td>\n",
       "      <td>3579573</td>\n",
       "      <td>3581372</td>\n",
       "      <td>1799</td>\n",
       "    </tr>\n",
       "    <tr>\n",
       "      <th>9999</th>\n",
       "      <td>401</td>\n",
       "      <td>29.426434</td>\n",
       "      <td>18.453865</td>\n",
       "      <td>32.169576</td>\n",
       "      <td>19.950125</td>\n",
       "      <td>2</td>\n",
       "      <td>chr12</td>\n",
       "      <td>131649526</td>\n",
       "      <td>131687467</td>\n",
       "      <td>37941</td>\n",
       "    </tr>\n",
       "    <tr>\n",
       "      <th>10000</th>\n",
       "      <td>945</td>\n",
       "      <td>26.455026</td>\n",
       "      <td>21.058201</td>\n",
       "      <td>24.444444</td>\n",
       "      <td>28.042328</td>\n",
       "      <td>2</td>\n",
       "      <td>chr14</td>\n",
       "      <td>99750983</td>\n",
       "      <td>99753677</td>\n",
       "      <td>2694</td>\n",
       "    </tr>\n",
       "  </tbody>\n",
       "</table>\n",
       "<p>10001 rows × 10 columns</p>\n",
       "</div>"
      ],
      "text/plain": [
       "       length    ratio_g    ratio_t    ratio_c    ratio_a  number_exons  \\\n",
       "0        1991  20.592667  30.688096  22.752386  25.966851             3   \n",
       "1         966  22.256729  26.086957  24.534161  27.122153             4   \n",
       "2        1646  22.053463  23.815310  23.815310  30.315917            12   \n",
       "3         368  30.978261  16.847826  27.717391  24.456522             2   \n",
       "4        3522  32.822260  15.247019  31.317433  20.613288             6   \n",
       "...       ...        ...        ...        ...        ...           ...   \n",
       "9996      400  18.000000  28.000000  22.500000  31.500000             2   \n",
       "9997     3452  21.176130  25.811124  21.176130  31.836616             3   \n",
       "9998      482  24.896266  27.800830  24.896266  22.406639             3   \n",
       "9999      401  29.426434  18.453865  32.169576  19.950125             2   \n",
       "10000     945  26.455026  21.058201  24.444444  28.042328             2   \n",
       "\n",
       "      chromosom  start_pos    end_pos  length_from_pos  \n",
       "0          chr1   84267198   84326229            59031  \n",
       "1         chr16   74226290   74249420            23130  \n",
       "2          chrX  129611042  129658231            47189  \n",
       "3         chr17   48634534   48636771             2237  \n",
       "4          chr1    2481358    2488450             7092  \n",
       "...         ...        ...        ...              ...  \n",
       "9996      chr20   18040136   18051652            11516  \n",
       "9997       chr3  106959574  107004434            44860  \n",
       "9998       chr2    3579573    3581372             1799  \n",
       "9999      chr12  131649526  131687467            37941  \n",
       "10000     chr14   99750983   99753677             2694  \n",
       "\n",
       "[10001 rows x 10 columns]"
      ]
     },
     "execution_count": 7,
     "metadata": {},
     "output_type": "execute_result"
    }
   ],
   "source": [
    "df"
   ]
  },
  {
   "cell_type": "code",
   "execution_count": 8,
   "metadata": {},
   "outputs": [],
   "source": [
    "features = ['length', 'ratio_g', 'ratio_a', 'ratio_c', 'ratio_t', 'number_exons', 'length_from_pos']"
   ]
  },
  {
   "cell_type": "code",
   "execution_count": 9,
   "metadata": {},
   "outputs": [
    {
     "data": {
      "text/html": [
       "<div>\n",
       "<style scoped>\n",
       "    .dataframe tbody tr th:only-of-type {\n",
       "        vertical-align: middle;\n",
       "    }\n",
       "\n",
       "    .dataframe tbody tr th {\n",
       "        vertical-align: top;\n",
       "    }\n",
       "\n",
       "    .dataframe thead th {\n",
       "        text-align: right;\n",
       "    }\n",
       "</style>\n",
       "<table border=\"1\" class=\"dataframe\">\n",
       "  <thead>\n",
       "    <tr style=\"text-align: right;\">\n",
       "      <th></th>\n",
       "      <th>length</th>\n",
       "      <th>ratio_g</th>\n",
       "      <th>ratio_a</th>\n",
       "      <th>ratio_c</th>\n",
       "      <th>ratio_t</th>\n",
       "      <th>number_exons</th>\n",
       "      <th>length_from_pos</th>\n",
       "    </tr>\n",
       "  </thead>\n",
       "  <tbody>\n",
       "    <tr>\n",
       "      <th>0</th>\n",
       "      <td>1991</td>\n",
       "      <td>20.592667</td>\n",
       "      <td>25.966851</td>\n",
       "      <td>22.752386</td>\n",
       "      <td>30.688096</td>\n",
       "      <td>3</td>\n",
       "      <td>59031</td>\n",
       "    </tr>\n",
       "    <tr>\n",
       "      <th>1</th>\n",
       "      <td>966</td>\n",
       "      <td>22.256729</td>\n",
       "      <td>27.122153</td>\n",
       "      <td>24.534161</td>\n",
       "      <td>26.086957</td>\n",
       "      <td>4</td>\n",
       "      <td>23130</td>\n",
       "    </tr>\n",
       "    <tr>\n",
       "      <th>2</th>\n",
       "      <td>1646</td>\n",
       "      <td>22.053463</td>\n",
       "      <td>30.315917</td>\n",
       "      <td>23.815310</td>\n",
       "      <td>23.815310</td>\n",
       "      <td>12</td>\n",
       "      <td>47189</td>\n",
       "    </tr>\n",
       "    <tr>\n",
       "      <th>3</th>\n",
       "      <td>368</td>\n",
       "      <td>30.978261</td>\n",
       "      <td>24.456522</td>\n",
       "      <td>27.717391</td>\n",
       "      <td>16.847826</td>\n",
       "      <td>2</td>\n",
       "      <td>2237</td>\n",
       "    </tr>\n",
       "    <tr>\n",
       "      <th>4</th>\n",
       "      <td>3522</td>\n",
       "      <td>32.822260</td>\n",
       "      <td>20.613288</td>\n",
       "      <td>31.317433</td>\n",
       "      <td>15.247019</td>\n",
       "      <td>6</td>\n",
       "      <td>7092</td>\n",
       "    </tr>\n",
       "    <tr>\n",
       "      <th>...</th>\n",
       "      <td>...</td>\n",
       "      <td>...</td>\n",
       "      <td>...</td>\n",
       "      <td>...</td>\n",
       "      <td>...</td>\n",
       "      <td>...</td>\n",
       "      <td>...</td>\n",
       "    </tr>\n",
       "    <tr>\n",
       "      <th>9996</th>\n",
       "      <td>400</td>\n",
       "      <td>18.000000</td>\n",
       "      <td>31.500000</td>\n",
       "      <td>22.500000</td>\n",
       "      <td>28.000000</td>\n",
       "      <td>2</td>\n",
       "      <td>11516</td>\n",
       "    </tr>\n",
       "    <tr>\n",
       "      <th>9997</th>\n",
       "      <td>3452</td>\n",
       "      <td>21.176130</td>\n",
       "      <td>31.836616</td>\n",
       "      <td>21.176130</td>\n",
       "      <td>25.811124</td>\n",
       "      <td>3</td>\n",
       "      <td>44860</td>\n",
       "    </tr>\n",
       "    <tr>\n",
       "      <th>9998</th>\n",
       "      <td>482</td>\n",
       "      <td>24.896266</td>\n",
       "      <td>22.406639</td>\n",
       "      <td>24.896266</td>\n",
       "      <td>27.800830</td>\n",
       "      <td>3</td>\n",
       "      <td>1799</td>\n",
       "    </tr>\n",
       "    <tr>\n",
       "      <th>9999</th>\n",
       "      <td>401</td>\n",
       "      <td>29.426434</td>\n",
       "      <td>19.950125</td>\n",
       "      <td>32.169576</td>\n",
       "      <td>18.453865</td>\n",
       "      <td>2</td>\n",
       "      <td>37941</td>\n",
       "    </tr>\n",
       "    <tr>\n",
       "      <th>10000</th>\n",
       "      <td>945</td>\n",
       "      <td>26.455026</td>\n",
       "      <td>28.042328</td>\n",
       "      <td>24.444444</td>\n",
       "      <td>21.058201</td>\n",
       "      <td>2</td>\n",
       "      <td>2694</td>\n",
       "    </tr>\n",
       "  </tbody>\n",
       "</table>\n",
       "<p>10001 rows × 7 columns</p>\n",
       "</div>"
      ],
      "text/plain": [
       "       length    ratio_g    ratio_a    ratio_c    ratio_t  number_exons  \\\n",
       "0        1991  20.592667  25.966851  22.752386  30.688096             3   \n",
       "1         966  22.256729  27.122153  24.534161  26.086957             4   \n",
       "2        1646  22.053463  30.315917  23.815310  23.815310            12   \n",
       "3         368  30.978261  24.456522  27.717391  16.847826             2   \n",
       "4        3522  32.822260  20.613288  31.317433  15.247019             6   \n",
       "...       ...        ...        ...        ...        ...           ...   \n",
       "9996      400  18.000000  31.500000  22.500000  28.000000             2   \n",
       "9997     3452  21.176130  31.836616  21.176130  25.811124             3   \n",
       "9998      482  24.896266  22.406639  24.896266  27.800830             3   \n",
       "9999      401  29.426434  19.950125  32.169576  18.453865             2   \n",
       "10000     945  26.455026  28.042328  24.444444  21.058201             2   \n",
       "\n",
       "       length_from_pos  \n",
       "0                59031  \n",
       "1                23130  \n",
       "2                47189  \n",
       "3                 2237  \n",
       "4                 7092  \n",
       "...                ...  \n",
       "9996             11516  \n",
       "9997             44860  \n",
       "9998              1799  \n",
       "9999             37941  \n",
       "10000             2694  \n",
       "\n",
       "[10001 rows x 7 columns]"
      ]
     },
     "execution_count": 9,
     "metadata": {},
     "output_type": "execute_result"
    }
   ],
   "source": [
    "df[features]"
   ]
  },
  {
   "cell_type": "code",
   "execution_count": 14,
   "metadata": {},
   "outputs": [],
   "source": [
    "np_array = df[features].to_numpy()"
   ]
  },
  {
   "cell_type": "code",
   "execution_count": 15,
   "metadata": {},
   "outputs": [],
   "source": [
    "reducer = umap.UMAP(\n",
    "    n_neighbors=30,\n",
    "    min_dist=0.0,\n",
    "    n_components=2,\n",
    "    random_state=42,\n",
    ").fit_transform(np_array)"
   ]
  },
  {
   "cell_type": "code",
   "execution_count": 16,
   "metadata": {},
   "outputs": [
    {
     "data": {
      "text/plain": [
       "(10001, 2)"
      ]
     },
     "execution_count": 16,
     "metadata": {},
     "output_type": "execute_result"
    }
   ],
   "source": [
    "reducer.shape"
   ]
  },
  {
   "cell_type": "code",
   "execution_count": 20,
   "metadata": {},
   "outputs": [
    {
     "data": {
      "image/png": "[encoded data removed]",
      "text/plain": [
       "<Figure size 432x288 with 1 Axes>"
      ]
     },
     "metadata": {
      "needs_background": "light"
     },
     "output_type": "display_data"
    }
   ],
   "source": [
    "plt.scatter(reducer[:, 0], reducer[:, 1])\n",
    "plt.savefig(\"reduction1.pdf\")"
   ]
  },
  {
   "cell_type": "code",
   "execution_count": 19,
   "metadata": {},
   "outputs": [
    {
     "name": "stderr",
     "output_type": "stream",
     "text": [
      "<ipython-input-19-e4755b2f97bb>:1: MatplotlibDeprecationWarning: savefig() got unexpected keyword argument \"density\" which is no longer supported as of 3.3 and will become an error two minor releases later\n",
      "  plt.savefig(\"reduction1.pdf\", density=300)\n"
     ]
    },
    {
     "data": {
      "text/plain": [
       "<Figure size 432x288 with 0 Axes>"
      ]
     },
     "metadata": {},
     "output_type": "display_data"
    }
   ],
   "source": []
  },
  {
   "cell_type": "code",
   "execution_count": 21,
   "metadata": {},
   "outputs": [],
   "source": [
    "model, centroids = fit_kmeans(reducer, 7)"
   ]
  },
  {
   "cell_type": "code",
   "execution_count": 28,
   "metadata": {},
   "outputs": [],
   "source": [
    "def run_kmeans_custom(df, model, centroids):\n",
    "    output_path = './output/kmeans' \n",
    "\n",
    "    plt.scatter(centroids[:, 0], centroids[:, 1], marker='x', color='b', zorder=10)\n",
    "    plt.scatter(df[:, 0], df[:, 1], c=model.predict(df))\n",
    "    #plt.xlabel(feature1)\n",
    "    #plt.ylabel(feature2)\n",
    "    #plt.savefig('%s/%s-%s.png' % (output_path, feature1, feature2))\n",
    "    #plt.clf()\n",
    "    #plt.close()"
   ]
  },
  {
   "cell_type": "code",
   "execution_count": 30,
   "metadata": {},
   "outputs": [
    {
     "data": {
      "image/png": "[encoded data removed]",
      "text/plain": [
       "<Figure size 432x288 with 1 Axes>"
      ]
     },
     "metadata": {
      "needs_background": "light"
     },
     "output_type": "display_data"
    }
   ],
   "source": [
    "run_kmeans_custom(reducer, model, centroids)"
   ]
  },
  {
   "cell_type": "code",
   "execution_count": null,
   "metadata": {},
   "outputs": [],
   "source": []
  },
  {
   "cell_type": "code",
   "execution_count": null,
   "metadata": {},
   "outputs": [],
   "source": []
  },
  {
   "cell_type": "code",
   "execution_count": null,
   "metadata": {},
   "outputs": [],
   "source": []
  }
 ],
 "metadata": {
  "kernelspec": {
   "display_name": "Python 3",
   "language": "python",
   "name": "python3"
  },
  "language_info": {
   "codemirror_mode": {
    "name": "ipython",
    "version": 3
   },
   "file_extension": ".py",
   "mimetype": "text/x-python",
   "name": "python",
   "nbconvert_exporter": "python",
   "pygments_lexer": "ipython3",
   "version": "3.7.7"
  }
 },
 "nbformat": 4,
 "nbformat_minor": 4
}
